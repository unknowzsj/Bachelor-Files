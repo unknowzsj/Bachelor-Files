{
 "metadata": {
  "language_info": {
   "codemirror_mode": {
    "name": "ipython",
    "version": 3
   },
   "file_extension": ".py",
   "mimetype": "text/x-python",
   "name": "python",
   "nbconvert_exporter": "python",
   "pygments_lexer": "ipython3",
   "version": "3.7.9-final"
  },
  "orig_nbformat": 2,
  "kernelspec": {
   "name": "python3",
   "display_name": "Python 3.7.9 64-bit ('tf2': conda)",
   "metadata": {
    "interpreter": {
     "hash": "865b91303c0655b63e42c5d03cbd424f89ab1078fc8eeb577e3059958e267924"
    }
   }
  }
 },
 "nbformat": 4,
 "nbformat_minor": 2,
 "cells": [
  {
   "cell_type": "code",
   "execution_count": 1,
   "metadata": {},
   "outputs": [],
   "source": [
    "# 包导入\n",
    "import tensorflow as tf \n",
    "from tensorflow import keras\n",
    "import numpy as np\n",
    "import random"
   ]
  },
  {
   "cell_type": "code",
   "execution_count": 2,
   "metadata": {},
   "outputs": [],
   "source": [
    "# 写入数据\n",
    "file_path = \"data.tfrecord\"\n",
    "all_day = np.array([1, 2, 3])\n",
    "\n",
    "with tf.io.TFRecordWriter(file_path) as files:\n",
    "    # 第一个数据的写入\n",
    "    example_first = tf.train.Example(\n",
    "        features=tf.train.Features(\n",
    "            feature={\n",
    "                \"data\": tf.train.Feature(\n",
    "                    float_list=tf.train.FloatList(value=all_day))\n",
    "                }))\n",
    "    files.write(example_first.SerializePartialToString())\n",
    "    files.write(example_first.SerializePartialToString())"
   ]
  },
  {
   "cell_type": "code",
   "execution_count": 3,
   "metadata": {},
   "outputs": [
    {
     "output_type": "stream",
     "name": "stdout",
     "text": [
      "tf.Tensor([1. 2. 3. 1. 2. 3.], shape=(6,), dtype=float32)\n"
     ]
    }
   ],
   "source": [
    "# 读数据函数,返回解析后的结果\n",
    "def read_datas(filepath):\n",
    "    feature_description = {\n",
    "        \"data\": tf.io.VarLenFeature(dtype=float)\n",
    "    }\n",
    "\n",
    "    file_dataset = tf.data.TFRecordDataset(filepath).batch(5)\n",
    "\n",
    "    for serialized_example in file_dataset:\n",
    "        parsed_example = tf.io.parse_example(serialized_example,                                                                                                       feature_description)\n",
    "    \n",
    "    return parsed_example\n",
    "\n",
    "# 读取数据并简单处理\n",
    "datas = read_datas(file_path)[\"data\"].values\n",
    "print(datas)"
   ]
  },
  {
   "cell_type": "code",
   "execution_count": null,
   "metadata": {},
   "outputs": [],
   "source": []
  }
 ]
}